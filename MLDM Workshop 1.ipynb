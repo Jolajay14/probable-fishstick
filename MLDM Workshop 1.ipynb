{
 "cells": [
  {
   "cell_type": "markdown",
   "id": "7c25a546",
   "metadata": {},
   "source": [
    "This is the first workshop"
   ]
  },
  {
   "cell_type": "markdown",
   "id": "c420224a",
   "metadata": {},
   "source": [
    "# This is a level 1 heading"
   ]
  },
  {
   "cell_type": "markdown",
   "id": "8c74e6ad",
   "metadata": {},
   "source": [
    "## This is a level 1 heading"
   ]
  },
  {
   "cell_type": "markdown",
   "id": "8f50c222",
   "metadata": {},
   "source": [
    "### This is a level 3 heading"
   ]
  },
  {
   "cell_type": "raw",
   "id": "21674062",
   "metadata": {},
   "source": [
    "#html code that directs to a link\n",
    "<html>\n",
    "<a href= \"https://www.salford.ac.uk\">click here<?\\/a>\n",
    "</html>"
   ]
  },
  {
   "cell_type": "code",
   "execution_count": 1,
   "id": "6958e7f9",
   "metadata": {},
   "outputs": [
    {
     "name": "stdout",
     "output_type": "stream",
     "text": [
      "Hello World!\n"
     ]
    }
   ],
   "source": [
    "#printing a message which is a string and should be surrounded by quotation marks\n",
    "print('Hello World!')"
   ]
  },
  {
   "cell_type": "code",
   "execution_count": 6,
   "id": "e87c6b42",
   "metadata": {},
   "outputs": [
    {
     "name": "stdout",
     "output_type": "stream",
     "text": [
      "10\n"
     ]
    }
   ],
   "source": [
    "#printing other data types\n",
    "print(10)"
   ]
  },
  {
   "cell_type": "code",
   "execution_count": 7,
   "id": "0844da1f",
   "metadata": {},
   "outputs": [
    {
     "name": "stdout",
     "output_type": "stream",
     "text": [
      "1 2 3\n"
     ]
    }
   ],
   "source": [
    "#printing multiple values\n",
    "print(1,2,3)"
   ]
  },
  {
   "cell_type": "code",
   "execution_count": 8,
   "id": "53099782",
   "metadata": {},
   "outputs": [
    {
     "name": "stdout",
     "output_type": "stream",
     "text": [
      "a b c\n",
      "a,b,c\n",
      "a-b-c\n"
     ]
    }
   ],
   "source": [
    "#printing multiple values with seperators\n",
    "print('a', 'b', 'c')\n",
    "print('a', 'b', 'c', sep=',')\n",
    "print('a', 'b', 'c', sep='-')"
   ]
  },
  {
   "cell_type": "code",
   "execution_count": 9,
   "id": "211b9f7b",
   "metadata": {},
   "outputs": [
    {
     "name": "stdout",
     "output_type": "stream",
     "text": [
      "Hello\n",
      "World!\n"
     ]
    }
   ],
   "source": [
    "#multiline printing\n",
    "print('Hello')\n",
    "print('World!')"
   ]
  },
  {
   "cell_type": "code",
   "execution_count": 11,
   "id": "918b61cc",
   "metadata": {},
   "outputs": [
    {
     "name": "stdout",
     "output_type": "stream",
     "text": [
      "Hello\n",
      "World!\n"
     ]
    }
   ],
   "source": [
    "print('Hello\\nWorld!')"
   ]
  },
  {
   "cell_type": "code",
   "execution_count": 12,
   "id": "9937e399",
   "metadata": {},
   "outputs": [
    {
     "name": "stdout",
     "output_type": "stream",
     "text": [
      "\n",
      "****************************\n",
      "*                          *\n",
      "*   Learning Python        *\n",
      "*                          *\n",
      "****************************\n",
      "\n"
     ]
    }
   ],
   "source": [
    "print(\n",
    "'''\n",
    "****************************\n",
    "*                          *\n",
    "*   Learning Python        *\n",
    "*                          *\n",
    "****************************\n",
    "'''\n",
    ")"
   ]
  },
  {
   "cell_type": "code",
   "execution_count": 13,
   "id": "79c6f489",
   "metadata": {},
   "outputs": [
    {
     "name": "stdout",
     "output_type": "stream",
     "text": [
      "Week 1 Workshop\n"
     ]
    }
   ],
   "source": [
    "# Concatenating string variables and values in the print() function:\n",
    "print('Week 1'+' '+'Workshop' )"
   ]
  },
  {
   "cell_type": "code",
   "execution_count": 14,
   "id": "34b6f24b",
   "metadata": {},
   "outputs": [
    {
     "name": "stdout",
     "output_type": "stream",
     "text": [
      "Area\n",
      "2\n",
      "3.14\n"
     ]
    }
   ],
   "source": [
    "msg='Area'\n",
    "r=2\n",
    "pi=3.14\n",
    "print(msg)\n",
    "print(r)\n",
    "print(pi)"
   ]
  },
  {
   "cell_type": "code",
   "execution_count": 15,
   "id": "0f9cfc63",
   "metadata": {},
   "outputs": [
    {
     "data": {
      "text/plain": [
       "str"
      ]
     },
     "execution_count": 15,
     "metadata": {},
     "output_type": "execute_result"
    }
   ],
   "source": [
    "#showing the type of a variable\n",
    "type(msg)"
   ]
  },
  {
   "cell_type": "code",
   "execution_count": 16,
   "id": "83baefea",
   "metadata": {},
   "outputs": [
    {
     "data": {
      "text/plain": [
       "int"
      ]
     },
     "execution_count": 16,
     "metadata": {},
     "output_type": "execute_result"
    }
   ],
   "source": [
    "type(r)"
   ]
  },
  {
   "cell_type": "code",
   "execution_count": 17,
   "id": "06be748d",
   "metadata": {},
   "outputs": [
    {
     "data": {
      "text/plain": [
       "float"
      ]
     },
     "execution_count": 17,
     "metadata": {},
     "output_type": "execute_result"
    }
   ],
   "source": [
    "type(pi)"
   ]
  },
  {
   "cell_type": "code",
   "execution_count": 18,
   "id": "62abcc1f",
   "metadata": {},
   "outputs": [],
   "source": [
    "#specify the data type of a variable\n",
    "x=str(2)\n",
    "y=int(2)\n",
    "z=float(2)"
   ]
  },
  {
   "cell_type": "code",
   "execution_count": 19,
   "id": "0cbb3b00",
   "metadata": {},
   "outputs": [
    {
     "data": {
      "text/plain": [
       "str"
      ]
     },
     "execution_count": 19,
     "metadata": {},
     "output_type": "execute_result"
    }
   ],
   "source": [
    "type(x)"
   ]
  },
  {
   "cell_type": "code",
   "execution_count": 20,
   "id": "22f513a2",
   "metadata": {},
   "outputs": [
    {
     "data": {
      "text/plain": [
       "int"
      ]
     },
     "execution_count": 20,
     "metadata": {},
     "output_type": "execute_result"
    }
   ],
   "source": [
    "type(y)"
   ]
  },
  {
   "cell_type": "code",
   "execution_count": 21,
   "id": "efcf5a1a",
   "metadata": {},
   "outputs": [
    {
     "data": {
      "text/plain": [
       "float"
      ]
     },
     "execution_count": 21,
     "metadata": {},
     "output_type": "execute_result"
    }
   ],
   "source": [
    "type(z)"
   ]
  },
  {
   "cell_type": "code",
   "execution_count": 22,
   "id": "97f14b7f",
   "metadata": {},
   "outputs": [
    {
     "name": "stdout",
     "output_type": "stream",
     "text": [
      " The addition of x and y is: 7\n",
      " The subtraction of x from y is: -1\n",
      " The multiplication of x and y is: 12\n",
      " The floating division of x by y is: 0.75\n",
      " The integer division of x by y is: 0\n",
      " The remainder of y/x: 1\n",
      " x to the power of y: 81\n"
     ]
    }
   ],
   "source": [
    "#operators\n",
    "x=3\n",
    "y=4\n",
    "add=x+y\n",
    "sub=x-y\n",
    "mul=x*y\n",
    "fdiv=x/y\n",
    "idiv=x//y\n",
    "mod=y%x\n",
    "power=x**y\n",
    "print(' The addition of x and y is: '+str(add))\n",
    "print(' The subtraction of x from y is: '+str(sub))\n",
    "print(' The multiplication of x and y is: '+str(mul))\n",
    "print(' The floating division of x by y is: '+str(fdiv))\n",
    "print(' The integer division of x by y is: '+str(idiv))\n",
    "print(' The remainder of y/x: '+str(mod))\n",
    "print(' x to the power of y: '+str(power))"
   ]
  },
  {
   "cell_type": "code",
   "execution_count": 26,
   "id": "938d4c87",
   "metadata": {},
   "outputs": [
    {
     "name": "stdout",
     "output_type": "stream",
     "text": [
      "e1=9\n",
      "e2=24\n",
      "e3=14.0\n",
      "e4=25.0\n",
      "e5=1.0\n",
      "e6=1.5\n",
      "e7=1.0\n",
      "e8=1.5\n",
      "e9=1.0\n",
      "e10=7.5\n"
     ]
    }
   ],
   "source": [
    "#0rder of operations\n",
    "e1=15-3*2\n",
    "e2=(15-3)*2\n",
    "e3=15-3**2/9\n",
    "e4=15/3*5\n",
    "e5=15/(3*5)\n",
    "e6=15%4/2\n",
    "e7=15%(4/2)\n",
    "e8=15//4/2\n",
    "e9=15/4//2\n",
    "e10=15/(4//2)\n",
    "\n",
    "print('e1',e1,sep='=')\n",
    "print('e2',e2,sep='=')\n",
    "print('e3',e3,sep='=')\n",
    "print('e4',e4,sep='=')\n",
    "print('e5',e5,sep='=')\n",
    "print('e6',e6,sep='=')\n",
    "print('e7',e7,sep='=')\n",
    "print('e8',e8,sep='=')\n",
    "print('e9',e9,sep='=')\n",
    "print('e10',e10,sep='=')"
   ]
  },
  {
   "cell_type": "code",
   "execution_count": 27,
   "id": "b0e71177",
   "metadata": {},
   "outputs": [
    {
     "name": "stdout",
     "output_type": "stream",
     "text": [
      "sum: 11\n"
     ]
    }
   ],
   "source": [
    "# This part prints sum of two numbers\n",
    "x=5 #is the first operand \n",
    "y=6 # is the second operand\n",
    "print ('sum:',x+y)"
   ]
  },
  {
   "cell_type": "code",
   "execution_count": 28,
   "id": "10552028",
   "metadata": {},
   "outputs": [
    {
     "name": "stdout",
     "output_type": "stream",
     "text": [
      "sum: 11\n"
     ]
    }
   ],
   "source": [
    "'''\n",
    "This part prints sum of two numbers\n",
    "x is the first operand\n",
    "y is the second operand\n",
    "\n",
    "'''\n",
    "x=5\n",
    "y=6\n",
    "print('sum:', x+y)"
   ]
  },
  {
   "cell_type": "code",
   "execution_count": 29,
   "id": "f93c638d",
   "metadata": {},
   "outputs": [
    {
     "name": "stdout",
     "output_type": "stream",
     "text": [
      "Requirement already satisfied: numpy in c:\\programdata\\anaconda3\\lib\\site-packages (1.21.5)\n",
      "Note: you may need to restart the kernel to use updated packages.\n"
     ]
    }
   ],
   "source": [
    "#library for scientific computing in Python.\n",
    "pip install numpy"
   ]
  },
  {
   "cell_type": "code",
   "execution_count": 30,
   "id": "d4923e43",
   "metadata": {},
   "outputs": [],
   "source": [
    "import numpy"
   ]
  },
  {
   "cell_type": "code",
   "execution_count": 31,
   "id": "45e355f8",
   "metadata": {},
   "outputs": [],
   "source": [
    "import numpy as np"
   ]
  },
  {
   "cell_type": "code",
   "execution_count": 33,
   "id": "aa0dc51a",
   "metadata": {},
   "outputs": [
    {
     "name": "stdout",
     "output_type": "stream",
     "text": [
      "[0 1 2 3 4 5]\n"
     ]
    }
   ],
   "source": [
    "import numpy as np\n",
    "a=np.arange(6)\n",
    "print(a)"
   ]
  },
  {
   "cell_type": "code",
   "execution_count": 34,
   "id": "5a7b5e80",
   "metadata": {},
   "outputs": [
    {
     "name": "stdout",
     "output_type": "stream",
     "text": [
      "Requirement already satisfied: pandas in c:\\programdata\\anaconda3\\lib\\site-packages (1.4.4)Note: you may need to restart the kernel to use updated packages.\n",
      "\n",
      "Requirement already satisfied: pytz>=2020.1 in c:\\programdata\\anaconda3\\lib\\site-packages (from pandas) (2022.1)\n",
      "Requirement already satisfied: numpy>=1.18.5 in c:\\programdata\\anaconda3\\lib\\site-packages (from pandas) (1.21.5)\n",
      "Requirement already satisfied: python-dateutil>=2.8.1 in c:\\programdata\\anaconda3\\lib\\site-packages (from pandas) (2.8.2)\n",
      "Requirement already satisfied: six>=1.5 in c:\\programdata\\anaconda3\\lib\\site-packages (from python-dateutil>=2.8.1->pandas) (1.16.0)\n"
     ]
    }
   ],
   "source": [
    "#library for data manipulation and analysis in Python programming language. \n",
    "pip install pandas"
   ]
  },
  {
   "cell_type": "code",
   "execution_count": 35,
   "id": "031fe52c",
   "metadata": {},
   "outputs": [],
   "source": [
    "import pandas"
   ]
  },
  {
   "cell_type": "code",
   "execution_count": 37,
   "id": "a5bb1cef",
   "metadata": {},
   "outputs": [
    {
     "name": "stdout",
     "output_type": "stream",
     "text": [
      "Requirement already satisfied: scikit-learn in c:\\programdata\\anaconda3\\lib\\site-packages (1.0.2)\n",
      "Requirement already satisfied: scipy>=1.1.0 in c:\\programdata\\anaconda3\\lib\\site-packages (from scikit-learn) (1.9.1)\n",
      "Requirement already satisfied: joblib>=0.11 in c:\\programdata\\anaconda3\\lib\\site-packages (from scikit-learn) (1.1.0)\n",
      "Requirement already satisfied: threadpoolctl>=2.0.0 in c:\\programdata\\anaconda3\\lib\\site-packages (from scikit-learn) (2.2.0)\n",
      "Requirement already satisfied: numpy>=1.14.6 in c:\\programdata\\anaconda3\\lib\\site-packages (from scikit-learn) (1.21.5)\n",
      "Note: you may need to restart the kernel to use updated packages.\n"
     ]
    }
   ],
   "source": [
    "#achine learning library for the Python programming language\n",
    "pip install scikit-learn"
   ]
  },
  {
   "cell_type": "code",
   "execution_count": 39,
   "id": "ad3c1776",
   "metadata": {},
   "outputs": [],
   "source": [
    "import sklearn"
   ]
  },
  {
   "cell_type": "code",
   "execution_count": 40,
   "id": "61e86622",
   "metadata": {},
   "outputs": [
    {
     "name": "stdout",
     "output_type": "stream",
     "text": [
      "Requirement already satisfied: matplotlib in c:\\programdata\\anaconda3\\lib\\site-packages (3.5.2)\n",
      "Requirement already satisfied: pyparsing>=2.2.1 in c:\\programdata\\anaconda3\\lib\\site-packages (from matplotlib) (3.0.9)\n",
      "Requirement already satisfied: numpy>=1.17 in c:\\programdata\\anaconda3\\lib\\site-packages (from matplotlib) (1.21.5)\n",
      "Requirement already satisfied: packaging>=20.0 in c:\\programdata\\anaconda3\\lib\\site-packages (from matplotlib) (21.3)\n",
      "Requirement already satisfied: kiwisolver>=1.0.1 in c:\\programdata\\anaconda3\\lib\\site-packages (from matplotlib) (1.4.2)\n",
      "Requirement already satisfied: pillow>=6.2.0 in c:\\programdata\\anaconda3\\lib\\site-packages (from matplotlib) (9.2.0)\n",
      "Requirement already satisfied: python-dateutil>=2.7 in c:\\programdata\\anaconda3\\lib\\site-packages (from matplotlib) (2.8.2)\n",
      "Requirement already satisfied: cycler>=0.10 in c:\\programdata\\anaconda3\\lib\\site-packages (from matplotlib) (0.11.0)\n",
      "Requirement already satisfied: fonttools>=4.22.0 in c:\\programdata\\anaconda3\\lib\\site-packages (from matplotlib) (4.25.0)\n",
      "Requirement already satisfied: six>=1.5 in c:\\programdata\\anaconda3\\lib\\site-packages (from python-dateutil>=2.7->matplotlib) (1.16.0)\n",
      "Note: you may need to restart the kernel to use updated packages.\n"
     ]
    }
   ],
   "source": [
    "#data visualization library \n",
    "pip install matplotlib"
   ]
  },
  {
   "cell_type": "code",
   "execution_count": 42,
   "id": "37d5bccc",
   "metadata": {},
   "outputs": [],
   "source": [
    "import matplotlib"
   ]
  },
  {
   "cell_type": "code",
   "execution_count": 43,
   "id": "33fdad64",
   "metadata": {},
   "outputs": [],
   "source": [
    "import matplotlib.pyplot as plt"
   ]
  },
  {
   "cell_type": "code",
   "execution_count": 44,
   "id": "23925edc",
   "metadata": {},
   "outputs": [
    {
     "name": "stdout",
     "output_type": "stream",
     "text": [
      "Requirement already satisfied: seaborn in c:\\programdata\\anaconda3\\lib\\site-packages (0.11.2)\n",
      "Requirement already satisfied: pandas>=0.23 in c:\\programdata\\anaconda3\\lib\\site-packages (from seaborn) (1.4.4)\n",
      "Requirement already satisfied: scipy>=1.0 in c:\\programdata\\anaconda3\\lib\\site-packages (from seaborn) (1.9.1)\n",
      "Requirement already satisfied: matplotlib>=2.2 in c:\\programdata\\anaconda3\\lib\\site-packages (from seaborn) (3.5.2)\n",
      "Requirement already satisfied: numpy>=1.15 in c:\\programdata\\anaconda3\\lib\\site-packages (from seaborn) (1.21.5)\n",
      "Requirement already satisfied: fonttools>=4.22.0 in c:\\programdata\\anaconda3\\lib\\site-packages (from matplotlib>=2.2->seaborn) (4.25.0)\n",
      "Requirement already satisfied: packaging>=20.0 in c:\\programdata\\anaconda3\\lib\\site-packages (from matplotlib>=2.2->seaborn) (21.3)\n",
      "Requirement already satisfied: pyparsing>=2.2.1 in c:\\programdata\\anaconda3\\lib\\site-packages (from matplotlib>=2.2->seaborn) (3.0.9)\n",
      "Requirement already satisfied: cycler>=0.10 in c:\\programdata\\anaconda3\\lib\\site-packages (from matplotlib>=2.2->seaborn) (0.11.0)\n",
      "Requirement already satisfied: pillow>=6.2.0 in c:\\programdata\\anaconda3\\lib\\site-packages (from matplotlib>=2.2->seaborn) (9.2.0)\n",
      "Requirement already satisfied: python-dateutil>=2.7 in c:\\programdata\\anaconda3\\lib\\site-packages (from matplotlib>=2.2->seaborn) (2.8.2)\n",
      "Requirement already satisfied: kiwisolver>=1.0.1 in c:\\programdata\\anaconda3\\lib\\site-packages (from matplotlib>=2.2->seaborn) (1.4.2)\n",
      "Requirement already satisfied: pytz>=2020.1 in c:\\programdata\\anaconda3\\lib\\site-packages (from pandas>=0.23->seaborn) (2022.1)\n",
      "Requirement already satisfied: six>=1.5 in c:\\programdata\\anaconda3\\lib\\site-packages (from python-dateutil>=2.7->matplotlib>=2.2->seaborn) (1.16.0)\n",
      "Note: you may need to restart the kernel to use updated packages.\n"
     ]
    }
   ],
   "source": [
    "#Python data visualization library based on matplotlib\n",
    "pip install seaborn"
   ]
  },
  {
   "cell_type": "code",
   "execution_count": 45,
   "id": "89ec0829",
   "metadata": {},
   "outputs": [],
   "source": [
    "import seaborn as sns"
   ]
  },
  {
   "cell_type": "code",
   "execution_count": 46,
   "id": "77290c51",
   "metadata": {},
   "outputs": [
    {
     "data": {
      "text/plain": [
       "'C:\\\\Users\\\\Anjolaoluwa'"
      ]
     },
     "execution_count": 46,
     "metadata": {},
     "output_type": "execute_result"
    }
   ],
   "source": [
    "pwd\n"
   ]
  },
  {
   "cell_type": "code",
   "execution_count": null,
   "id": "f15a816a",
   "metadata": {},
   "outputs": [],
   "source": []
  }
 ],
 "metadata": {
  "kernelspec": {
   "display_name": "Python 3 (ipykernel)",
   "language": "python",
   "name": "python3"
  },
  "language_info": {
   "codemirror_mode": {
    "name": "ipython",
    "version": 3
   },
   "file_extension": ".py",
   "mimetype": "text/x-python",
   "name": "python",
   "nbconvert_exporter": "python",
   "pygments_lexer": "ipython3",
   "version": "3.9.13"
  }
 },
 "nbformat": 4,
 "nbformat_minor": 5
}
